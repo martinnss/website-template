{
 "cells": [
  {
   "cell_type": "markdown",
   "metadata": {},
   "source": [
    "# Create website from scratch\n",
    "\n",
    "## Setting up\n",
    "\n",
    "### 1) create react app\n",
    "\n",
    "Primero se debe hacer un create react app desde el \n",
    "```bash\n",
    "npx create-react-app NOMBRE-STARTUP\n",
    "```\n",
    "\n",
    "### 2) git init\n",
    "\n",
    "crear un repositorio vacio desde github\n",
    "\n",
    "conectar app con repositorio vacio\n",
    "\n",
    "```bash\n",
    "git remote add origin https://github.com/martinnss/startup.git\n",
    "git add .\n",
    "git commit -m \"first commit\"\n",
    "```"
   ]
  }
 ],
 "metadata": {
  "language_info": {
   "name": "python"
  },
  "orig_nbformat": 4
 },
 "nbformat": 4,
 "nbformat_minor": 2
}
