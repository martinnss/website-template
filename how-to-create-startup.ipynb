{
 "cells": [
  {
   "cell_type": "markdown",
   "metadata": {},
   "source": [
    "# Create website from scratch\n",
    "\n",
    "## Setting up\n",
    "\n",
    "### 1) create react app\n",
    "\n",
    "Primero se debe hacer un create react app desde el \n",
    "```bash\n",
    "npx create-react-app NOMBRE-STARTUP\n",
    "```\n",
    "\n",
    "### 2) git init\n",
    "\n",
    "crear un repositorio vacio desde github\n",
    "\n",
    "conectar app con repositorio vacio\n",
    "\n",
    "```bash\n",
    "git remote add origin https://github.com/martinnss/startup.git\n",
    "git add .\n",
    "git commit -m \"first commit\"\n",
    "git push origin master\n",
    "```\n",
    "\n",
    "### 3) deploy to vercel\n",
    "1. add new project\n",
    "2. import git repository\n",
    "3. ok a todo y deploy\n",
    "https://www.youtube.com/watch?v=yxLOBFXSkv0&ab_channel=AgustinNavarroGaldon\n",
    "\n",
    "## duplicando el template\n",
    "\n",
    "instalando modulos \n",
    "\n",
    "```bash\n",
    "npm install react-router-dom\n",
    "```\n",
    "\n",
    "\n",
    "# firebase (backend as a service)"
   ]
  }
 ],
 "metadata": {
  "language_info": {
   "name": "python"
  },
  "orig_nbformat": 4
 },
 "nbformat": 4,
 "nbformat_minor": 2
}
